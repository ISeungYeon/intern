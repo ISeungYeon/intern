{
 "cells": [
  {
   "cell_type": "code",
   "execution_count": 1,
   "id": "37b06d77-4aef-4d57-ac0c-f584d13a4769",
   "metadata": {},
   "outputs": [],
   "source": [
    "import tensorflow as tf\n",
    "from tensorflow.keras.optimizers import RMSprop\n",
    "from tensorflow.keras.layers import Dense, Flatten, Conv2D, MaxPooling2D"
   ]
  },
  {
   "cell_type": "markdown",
   "id": "52bb27f0-710a-405d-9770-497a4a04003b",
   "metadata": {},
   "source": [
    "# 데이터 분할은 Adam과 동일한 코드로 진행 후 아래 코드 실행 가능"
   ]
  },
  {
   "cell_type": "code",
   "execution_count": 11,
   "id": "560ab575-47c8-4074-ac8d-38f571ffb9dc",
   "metadata": {},
   "outputs": [
    {
     "name": "stdout",
     "output_type": "stream",
     "text": [
      "Found 1184 images belonging to 3 classes.\n",
      "Found 296 images belonging to 3 classes.\n",
      "Epoch 1/10\n",
      "37/37 [==============================] - 51s 1s/step - loss: 1.2708 - accuracy: 0.5498 - val_loss: 0.4154 - val_accuracy: 0.8581\n",
      "Epoch 2/10\n",
      "37/37 [==============================] - 50s 1s/step - loss: 0.3862 - accuracy: 0.8623 - val_loss: 0.1541 - val_accuracy: 0.9426\n",
      "Epoch 3/10\n",
      "37/37 [==============================] - 50s 1s/step - loss: 0.1490 - accuracy: 0.9611 - val_loss: 0.0502 - val_accuracy: 0.9899\n",
      "Epoch 4/10\n",
      "37/37 [==============================] - 49s 1s/step - loss: 0.1293 - accuracy: 0.9730 - val_loss: 0.0939 - val_accuracy: 0.9764\n",
      "Epoch 5/10\n",
      "37/37 [==============================] - 49s 1s/step - loss: 0.0364 - accuracy: 0.9865 - val_loss: 0.3038 - val_accuracy: 0.9020\n",
      "Epoch 6/10\n",
      "37/37 [==============================] - 49s 1s/step - loss: 0.0798 - accuracy: 0.9814 - val_loss: 0.0262 - val_accuracy: 0.9966\n",
      "Epoch 7/10\n",
      "37/37 [==============================] - 49s 1s/step - loss: 0.0973 - accuracy: 0.9856 - val_loss: 0.2180 - val_accuracy: 0.9696\n",
      "Epoch 8/10\n",
      "37/37 [==============================] - 55s 1s/step - loss: 0.0357 - accuracy: 0.9958 - val_loss: 0.0415 - val_accuracy: 0.9966\n",
      "Epoch 9/10\n",
      "37/37 [==============================] - 59s 2s/step - loss: 0.0930 - accuracy: 0.9865 - val_loss: 0.0180 - val_accuracy: 0.9966\n",
      "Epoch 10/10\n",
      "37/37 [==============================] - 64s 2s/step - loss: 0.0016 - accuracy: 1.0000 - val_loss: 0.0116 - val_accuracy: 0.9966\n"
     ]
    }
   ],
   "source": [
    "# 데이터 로딩 및 전처리\n",
    "train_datagen = tf.keras.preprocessing.image.ImageDataGenerator(rescale=1./255)\n",
    "val_datagen = tf.keras.preprocessing.image.ImageDataGenerator(rescale=1./255)\n",
    "\n",
    "train_data = train_datagen.flow_from_directory(\n",
    "    './Newnew data/train',\n",
    "    target_size=(224, 224),\n",
    "    batch_size=32,\n",
    "    class_mode='categorical'\n",
    ")\n",
    "\n",
    "val_data = val_datagen.flow_from_directory(\n",
    "    './Newnew data/val',\n",
    "    target_size=(224, 224),\n",
    "    batch_size=32,\n",
    "    class_mode='categorical'\n",
    ")\n",
    "\n",
    "# 모델 정의\n",
    "model = tf.keras.Sequential([\n",
    "    Conv2D(32, (3, 3), activation='relu', input_shape=(224, 224, 3)),\n",
    "    MaxPooling2D((2, 2)),\n",
    "    Conv2D(64, (3, 3), activation='relu'),\n",
    "    MaxPooling2D((2, 2)),\n",
    "    Conv2D(128, (3, 3), activation='relu'),\n",
    "    MaxPooling2D((2, 2)),\n",
    "    Flatten(),\n",
    "    Dense(128, activation='relu'),\n",
    "    Dense(3, activation='softmax')\n",
    "])\n",
    "\n",
    "\n",
    "# 모델 컴파일\n",
    "model.compile(optimizer=RMSprop(learning_rate=0.003), loss='categorical_crossentropy', metrics=['accuracy'])\n",
    "\n",
    "\n",
    "\n",
    "# 모델 학습\n",
    "history = model.fit(\n",
    "    train_data,\n",
    "    epochs=10,\n",
    "    validation_data=val_data\n",
    ")"
   ]
  },
  {
   "cell_type": "code",
   "execution_count": null,
   "id": "cd7edddd-a728-4fbe-9761-911190792464",
   "metadata": {},
   "outputs": [],
   "source": []
  }
 ],
 "metadata": {
  "kernelspec": {
   "display_name": "Python 3 (ipykernel)",
   "language": "python",
   "name": "python3"
  },
  "language_info": {
   "codemirror_mode": {
    "name": "ipython",
    "version": 3
   },
   "file_extension": ".py",
   "mimetype": "text/x-python",
   "name": "python",
   "nbconvert_exporter": "python",
   "pygments_lexer": "ipython3",
   "version": "3.9.13"
  }
 },
 "nbformat": 4,
 "nbformat_minor": 5
}
